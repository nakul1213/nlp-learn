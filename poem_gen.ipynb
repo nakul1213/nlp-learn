{
  "nbformat": 4,
  "nbformat_minor": 0,
  "metadata": {
    "colab": {
      "provenance": []
    },
    "kernelspec": {
      "name": "python3",
      "display_name": "Python 3"
    },
    "language_info": {
      "name": "python"
    }
  },
  "cells": [
    {
      "cell_type": "code",
      "execution_count": 2,
      "metadata": {
        "id": "NNZkHbos0Dpl"
      },
      "outputs": [],
      "source": [
        "initial ={}\n",
        "first_order = {}\n",
        "second_order= {}"
      ]
    },
    {
      "cell_type": "code",
      "source": [
        "!wget -nc https://raw.githubusercontent.com/lazyprogrammer/machine_learning_examples/master/hmm_class/robert_frost.txt\n",
        "\n"
      ],
      "metadata": {
        "colab": {
          "base_uri": "https://localhost:8080/"
        },
        "id": "ClWG2kxc0HHv",
        "outputId": "a6197a8f-7598-4276-e01a-99180a85b13b"
      },
      "execution_count": 3,
      "outputs": [
        {
          "output_type": "stream",
          "name": "stdout",
          "text": [
            "--2023-12-06 15:40:41--  https://raw.githubusercontent.com/lazyprogrammer/machine_learning_examples/master/hmm_class/robert_frost.txt\n",
            "Resolving raw.githubusercontent.com (raw.githubusercontent.com)... 185.199.108.133, 185.199.109.133, 185.199.110.133, ...\n",
            "Connecting to raw.githubusercontent.com (raw.githubusercontent.com)|185.199.108.133|:443... connected.\n",
            "HTTP request sent, awaiting response... 200 OK\n",
            "Length: 56286 (55K) [text/plain]\n",
            "Saving to: ‘robert_frost.txt’\n",
            "\n",
            "\rrobert_frost.txt      0%[                    ]       0  --.-KB/s               \rrobert_frost.txt    100%[===================>]  54.97K  --.-KB/s    in 0.008s  \n",
            "\n",
            "2023-12-06 15:40:41 (7.05 MB/s) - ‘robert_frost.txt’ saved [56286/56286]\n",
            "\n"
          ]
        }
      ]
    },
    {
      "cell_type": "code",
      "source": [
        "def add_to_dict(dict , prev_st , curr_st ):\n",
        "  if prev_st not in dict :\n",
        "    dict[prev_st] = []\n",
        "  dict[prev_st ].append(curr_st)\n"
      ],
      "metadata": {
        "id": "Jr5tQ9on2kao"
      },
      "execution_count": 4,
      "outputs": []
    },
    {
      "cell_type": "code",
      "source": [
        "for line in open('robert_frost.txt'):\n",
        "  tokens = line.rstrip().lower().split()\n",
        "  T = len(tokens)\n",
        "  for i in range(T):\n",
        "    t= tokens[i]\n",
        "    if i==0 :\n",
        "      initial[t] = initial.get(t,0.)+1\n",
        "    else:\n",
        "      t1 = tokens[i-1]\n",
        "      if i==T-1:\n",
        "        add_to_dict ( second_order , (t1, t), 'END')\n",
        "      if i==1 :\n",
        "        add_to_dict ( first_order , t1 , t )\n",
        "      else:\n",
        "        t2 = tokens[i-2]\n",
        "        add_to_dict ( second_order , (t2,t1),t)\n",
        "\n",
        "\n"
      ],
      "metadata": {
        "id": "Vqez12RE0HpF"
      },
      "execution_count": 5,
      "outputs": []
    },
    {
      "cell_type": "code",
      "source": [
        "initial_total = sum(initial.values())\n",
        "for t, c in initial.items():\n",
        "  initial[t] = c / initial_total\n",
        "\n",
        "\n"
      ],
      "metadata": {
        "id": "gQRrRCJO3Whx"
      },
      "execution_count": 6,
      "outputs": []
    },
    {
      "cell_type": "code",
      "source": [
        " print(first_order)"
      ],
      "metadata": {
        "id": "7s9bD4Fk3dc4"
      },
      "execution_count": null,
      "outputs": []
    },
    {
      "cell_type": "code",
      "source": [
        "def list_to_dict (lst):\n",
        "  dct = {}\n",
        "  n = len(lst)\n",
        "  for t in lst :\n",
        "    dct[t] = dct.get(t,0.)+1\n",
        "  for t , c in dct.items():\n",
        "    dct[t]= c/n\n",
        "\n",
        "  return dct\n"
      ],
      "metadata": {
        "id": "NQTxrQKd4WbU"
      },
      "execution_count": 8,
      "outputs": []
    },
    {
      "cell_type": "code",
      "source": [
        "for t1 , lst in first_order.items():\n",
        "  first_order[t1] = list_to_dict(lst)"
      ],
      "metadata": {
        "id": "A-I_JNKP5r1H"
      },
      "execution_count": 9,
      "outputs": []
    },
    {
      "cell_type": "code",
      "source": [
        "print(first_order)"
      ],
      "metadata": {
        "id": "cE6zHd9k6KkT"
      },
      "execution_count": null,
      "outputs": []
    },
    {
      "cell_type": "code",
      "source": [
        "for t, lst in second_order.items():\n",
        "  second_order[t] = list_to_dict(lst)"
      ],
      "metadata": {
        "id": "FDclJgda6Nkk"
      },
      "execution_count": 11,
      "outputs": []
    },
    {
      "cell_type": "code",
      "source": [
        "print(second_order)"
      ],
      "metadata": {
        "id": "PMiM34CF6Zhx"
      },
      "execution_count": null,
      "outputs": []
    },
    {
      "cell_type": "markdown",
      "source": [
        "MODEL"
      ],
      "metadata": {
        "id": "R9DC5Vee6owW"
      }
    },
    {
      "cell_type": "code",
      "source": [
        "import numpy as np\n",
        "\n",
        "def sample_word(d):\n",
        "  p0 = np.random.random()\n",
        "\n",
        "  cumul =0\n",
        "  for t , p in d.items():\n",
        "    cumul += p\n",
        "    if p0 < cumul :\n",
        "      return t\n"
      ],
      "metadata": {
        "id": "zrWFc7F5xqYV"
      },
      "execution_count": 12,
      "outputs": []
    },
    {
      "cell_type": "code",
      "source": [
        "def generate():\n",
        "  for i in range(4):\n",
        "    sentence = []\n",
        "\n",
        "    w0 = sample_word(initial)\n",
        "    sentence.append(w0)\n",
        "\n",
        "    w1 = sample_word(first_order[w0])\n",
        "\n",
        "    sentence.append(w1)\n",
        "\n",
        "    while True :\n",
        "      w2 = sample_word(second_order[(w0,w1)])\n",
        "      if w2=='END':\n",
        "        break\n",
        "      sentence.append(w2)\n",
        "      w0=w1\n",
        "      w1=w2\n",
        "\n",
        "    print(' '.join(sentence))\n",
        ""
      ],
      "metadata": {
        "id": "UmPv7qKY6cnZ"
      },
      "execution_count": 16,
      "outputs": []
    },
    {
      "cell_type": "code",
      "source": [
        "generate()"
      ],
      "metadata": {
        "colab": {
          "base_uri": "https://localhost:8080/"
        },
        "id": "sTd7Sjvkyo9l",
        "outputId": "bfb87f33-b666-4091-bf57-601051d615bd"
      },
      "execution_count": 17,
      "outputs": [
        {
          "output_type": "stream",
          "name": "stdout",
          "text": [
            "though set so far\n",
            "that there's something the dead race of the one less traveled by,\n",
            "the past and get some strangeness out of beaten ways\n",
            "to which man sends his\n"
          ]
        }
      ]
    },
    {
      "cell_type": "code",
      "source": [],
      "metadata": {
        "id": "06EjbJfyyrFH"
      },
      "execution_count": null,
      "outputs": []
    }
  ]
}