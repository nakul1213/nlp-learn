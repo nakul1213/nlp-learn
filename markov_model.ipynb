{
  "nbformat": 4,
  "nbformat_minor": 0,
  "metadata": {
    "colab": {
      "provenance": []
    },
    "kernelspec": {
      "name": "python3",
      "display_name": "Python 3"
    },
    "language_info": {
      "name": "python"
    }
  },
  "cells": [
    {
      "cell_type": "code",
      "execution_count": 2,
      "metadata": {
        "colab": {
          "base_uri": "https://localhost:8080/"
        },
        "id": "Nafa5qJ2qazZ",
        "outputId": "223b177b-b501-47e6-b3ba-1b316cdc9ffe"
      },
      "outputs": [
        {
          "output_type": "stream",
          "name": "stdout",
          "text": [
            "--2023-10-03 16:32:39--  https://raw.githubusercontent.com/lazyprogrammer/machine_learning_examples/master/hmm_class/edgar_allan_poe.txt\n",
            "Resolving raw.githubusercontent.com (raw.githubusercontent.com)... 185.199.108.133, 185.199.109.133, 185.199.110.133, ...\n",
            "Connecting to raw.githubusercontent.com (raw.githubusercontent.com)|185.199.108.133|:443... connected.\n",
            "HTTP request sent, awaiting response... 200 OK\n",
            "Length: 26622 (26K) [text/plain]\n",
            "Saving to: ‘edgar_allan_poe.txt’\n",
            "\n",
            "edgar_allan_poe.txt 100%[===================>]  26.00K  --.-KB/s    in 0.001s  \n",
            "\n",
            "2023-10-03 16:32:39 (22.1 MB/s) - ‘edgar_allan_poe.txt’ saved [26622/26622]\n",
            "\n",
            "--2023-10-03 16:32:39--  https://raw.githubusercontent.com/lazyprogrammer/machine_learning_examples/master/hmm_class/robert_frost.txt\n",
            "Resolving raw.githubusercontent.com (raw.githubusercontent.com)... 185.199.111.133, 185.199.108.133, 185.199.109.133, ...\n",
            "Connecting to raw.githubusercontent.com (raw.githubusercontent.com)|185.199.111.133|:443... connected.\n",
            "HTTP request sent, awaiting response... 200 OK\n",
            "Length: 56286 (55K) [text/plain]\n",
            "Saving to: ‘robert_frost.txt’\n",
            "\n",
            "robert_frost.txt    100%[===================>]  54.97K  --.-KB/s    in 0.009s  \n",
            "\n",
            "2023-10-03 16:32:39 (6.22 MB/s) - ‘robert_frost.txt’ saved [56286/56286]\n",
            "\n"
          ]
        }
      ],
      "source": [
        "!wget -nc https://raw.githubusercontent.com/lazyprogrammer/machine_learning_examples/master/hmm_class/edgar_allan_poe.txt\n",
        "!wget -nc https://raw.githubusercontent.com/lazyprogrammer/machine_learning_examples/master/hmm_class/robert_frost.txt\n"
      ]
    },
    {
      "cell_type": "code",
      "source": [
        "import numpy as np\n",
        "import matplotlib.pyplot as plt\n",
        "import string\n",
        "from sklearn.model_selection import train_test_split"
      ],
      "metadata": {
        "id": "4B2ciOuOqpcW"
      },
      "execution_count": 3,
      "outputs": []
    },
    {
      "cell_type": "code",
      "source": [
        "input_files = ['edgar_allan_poe.txt','robert_frost.txt']"
      ],
      "metadata": {
        "id": "BqxVegTaqkh9"
      },
      "execution_count": 4,
      "outputs": []
    },
    {
      "cell_type": "code",
      "source": [
        "!head edgar_allan_poe.txt"
      ],
      "metadata": {
        "colab": {
          "base_uri": "https://localhost:8080/"
        },
        "id": "2EBgSstQrPqk",
        "outputId": "a72d74ab-510a-47bd-c571-9a1471769970"
      },
      "execution_count": 5,
      "outputs": [
        {
          "output_type": "stream",
          "name": "stdout",
          "text": [
            "LO! Death hath rear'd himself a throne\n",
            "In a strange city, all alone,\n",
            "Far down within the dim west\n",
            "Where the good, and the bad, and the worst, and the best,\n",
            "Have gone to their eternal rest.\n",
            " \n",
            "There shrines, and palaces, and towers\n",
            "Are not like any thing of ours\n",
            "Oh no! O no! ours never loom\n",
            "To heaven with that ungodly gloom!\n"
          ]
        }
      ]
    },
    {
      "cell_type": "code",
      "source": [
        "input_text=[]\n",
        "labels=[]\n",
        "\n",
        "\n",
        "for label,f in enumerate(input_files): #enumarate gives a index to each thing in list here 0 for first file and 1 for other poem\n",
        "  for line in open(f): #label is index of file and f is the file .txt format\n",
        "    line=line.rstrip().lower() #removing \\n from last and converting into lower case\n",
        "    if line: # there could be empty lines in the text b/w paragraphs\n",
        "      line = line.translate(str.maketrans('','',string.punctuation))\n",
        "      input_text.append(line)\n",
        "      labels.append(label)"
      ],
      "metadata": {
        "id": "BI66aVPdrS24"
      },
      "execution_count": 6,
      "outputs": []
    },
    {
      "cell_type": "code",
      "source": [
        "tr_text,tt_text,tr_labels,tt_labels=train_test_split(input_text,labels)"
      ],
      "metadata": {
        "id": "9bLm3zY8sl33"
      },
      "execution_count": 7,
      "outputs": []
    },
    {
      "cell_type": "code",
      "source": [
        "idx=1\n",
        "word2idx={'<unk>':0}\n",
        "\n",
        "for text in tr_text:\n",
        "  words=text.split() #could use complex things like stemming or lemmatizer\n",
        "  for word in words:\n",
        "    if word not in word2idx:\n",
        "      word2idx[word]=idx\n",
        "      idx+=1\n"
      ],
      "metadata": {
        "id": "9UJmDnuxs44D"
      },
      "execution_count": 8,
      "outputs": []
    },
    {
      "cell_type": "code",
      "source": [
        "tr_text_int=[]\n",
        "tt_text_int=[]"
      ],
      "metadata": {
        "id": "nk-3EEGzuVB8"
      },
      "execution_count": 9,
      "outputs": []
    },
    {
      "cell_type": "code",
      "source": [
        "\n",
        "for text in tr_text:\n",
        "  words=text.split()\n",
        "  line_as_int=[word2idx[word] for word in words]\n",
        "  tr_text_int.append(line_as_int)\n",
        "\n"
      ],
      "metadata": {
        "id": "logaroquvKE-"
      },
      "execution_count": 10,
      "outputs": []
    },
    {
      "cell_type": "code",
      "source": [
        "\n",
        "for text in tt_text:\n",
        "  words=text.split()\n",
        "  line_as_int=[word2idx.get(word,0) for word in words]\n",
        "  tt_text_int.append(line_as_int)"
      ],
      "metadata": {
        "id": "8SSFUMl9v3y9"
      },
      "execution_count": 11,
      "outputs": []
    },
    {
      "cell_type": "code",
      "source": [
        "V =len(word2idx)\n",
        "A0 =np.ones((V,V)) #corresponfding to first author\n",
        "pi0=np.ones(V)\n",
        "\n",
        "A1=np.ones((V,V))\n",
        "pi1=np.ones(V)\n",
        "# therfore we create 2 markov models for each poer/"
      ],
      "metadata": {
        "id": "GFSBGEynxcnY"
      },
      "execution_count": 12,
      "outputs": []
    },
    {
      "cell_type": "code",
      "source": [
        "\n",
        "def compute(text_as_int , A, pi):\n",
        "  for tokens in text_as_int :\n",
        "    last_idx= None\n",
        "    for idx in tokens:\n",
        "      if last_idx is None:\n",
        "        pi[idx]+=1\n",
        "      else:\n",
        "        A[last_idx,idx]+=1\n",
        "      last_idx=idx\n",
        "\n",
        "compute([t for t,y in zip(tr_text_int,tr_labels) if y==0] , A0,pi0)\n",
        "compute([t for t,y in zip(tr_text_int,tr_labels) if y==1] , A1,pi1)"
      ],
      "metadata": {
        "id": "HwMd3qe1y9as"
      },
      "execution_count": 13,
      "outputs": []
    },
    {
      "cell_type": "code",
      "source": [
        " #converting counts to probailites\n",
        " A0 /= A0.sum(axis=1,keepdims=True)\n",
        " pi0 /=pi0.sum()\n",
        " A1 /= A1.sum(axis=1,keepdims=True)\n",
        " pi1 /=pi1.sum()"
      ],
      "metadata": {
        "id": "TGZUTVaM3wNk"
      },
      "execution_count": 14,
      "outputs": []
    },
    {
      "cell_type": "code",
      "source": [
        "logA0=np.log(A0)\n",
        "logpi0=np.log(pi0)\n",
        "\n",
        "logA1=np.log(A1)\n",
        "logpi1=np.log(pi1)"
      ],
      "metadata": {
        "id": "1iTrn5n934D6"
      },
      "execution_count": 15,
      "outputs": []
    },
    {
      "cell_type": "code",
      "source": [
        "count0=0\n",
        "count1=0\n",
        "for y in tr_labels:\n",
        "  if y==0:\n",
        "    count0+=1\n",
        "  else:\n",
        "    count1+=1\n",
        "tot=len(tr_labels)\n",
        "p0=count0/tot\n",
        "p1=count1/tot\n",
        "logp0=np.log(p0)\n",
        "logp1=np.log(p1)\n",
        "p0,p1\n"
      ],
      "metadata": {
        "colab": {
          "base_uri": "https://localhost:8080/"
        },
        "id": "6WPHHOY-8KLM",
        "outputId": "f2e5a243-8701-443f-a9c0-efcc6570b8c7"
      },
      "execution_count": 16,
      "outputs": [
        {
          "output_type": "execute_result",
          "data": {
            "text/plain": [
              "(0.33250773993808047, 0.6674922600619195)"
            ]
          },
          "metadata": {},
          "execution_count": 16
        }
      ]
    },
    {
      "cell_type": "code",
      "source": [
        "\n",
        "class Classifier:\n",
        "  def __init__(self,logAs,logpis,logpriors):\n",
        "    self.logAs=logAs\n",
        "    self.logpis=logpis\n",
        "    self.logpriors=logpriors\n",
        "    self.k=len(logAs)\n",
        "\n",
        "\n",
        "  def compute_log_likelihood(self,input_,class_):\n",
        "    logA=self.logAs[class_]\n",
        "    logpi=self.logpis[class_]\n",
        "\n",
        "    last_idx=None\n",
        "\n",
        "    logprob=0\n",
        "\n",
        "    for idx in input_:\n",
        "      if last_idx==None:\n",
        "        logprob+=logpi[idx]\n",
        "      else :\n",
        "        logprob+=logA[last_idx,idx]\n",
        "      last_idx=idx\n",
        "\n",
        "    return logprob\n",
        "\n",
        "  def predict(self,inputs):\n",
        "    predictions=np.zeros(len(inputs))\n",
        "    for i,input_ in enumerate(inputs):\n",
        "      post_=[self.compute_log_likelihood(input_,c)+self.logpriors[c] for c in range(self.k)]\n",
        "      pred=np.argmax(post_)\n",
        "      predictions[i]=pred\n",
        "    return predictions\n",
        "\n",
        "\n"
      ],
      "metadata": {
        "id": "noYhzcU681Nx"
      },
      "execution_count": 33,
      "outputs": []
    },
    {
      "cell_type": "code",
      "source": [
        "clf=Classifier([logA0,logA1],[logpi0,logpi1],[logp0,logp1])"
      ],
      "metadata": {
        "id": "RG8OaUvhYmXO"
      },
      "execution_count": 34,
      "outputs": []
    },
    {
      "cell_type": "code",
      "source": [
        "P_train = clf.predict(tr_text_int)\n",
        "print(f\"Train accuracy: {np.mean(P_train==tr_labels)}\")"
      ],
      "metadata": {
        "colab": {
          "base_uri": "https://localhost:8080/"
        },
        "id": "wgX1LoT1beSr",
        "outputId": "11890597-97ab-4c1d-cf83-5cc6880cb659"
      },
      "execution_count": 35,
      "outputs": [
        {
          "output_type": "stream",
          "name": "stdout",
          "text": [
            "Train accuracy: 0.993188854489164\n"
          ]
        }
      ]
    },
    {
      "cell_type": "code",
      "source": [
        "P_test = clf.predict(tt_text_int)\n",
        "print(f\"Test accuracy: {np.mean(P_test==tt_labels)}\")"
      ],
      "metadata": {
        "colab": {
          "base_uri": "https://localhost:8080/"
        },
        "id": "-KexFDmIbkX5",
        "outputId": "98ff6dda-47f9-4920-cd71-ca3e19b6804c"
      },
      "execution_count": 36,
      "outputs": [
        {
          "output_type": "stream",
          "name": "stdout",
          "text": [
            "Test accuracy: 0.8033395176252319\n"
          ]
        }
      ]
    },
    {
      "cell_type": "code",
      "source": [
        "from sklearn.metrics import confusion_matrix,f1_score\n"
      ],
      "metadata": {
        "id": "3X-FCkE1ddg5"
      },
      "execution_count": 37,
      "outputs": []
    },
    {
      "cell_type": "code",
      "source": [
        "cm_train=confusion_matrix(tr_labels,P_train)\n",
        "cm_train"
      ],
      "metadata": {
        "colab": {
          "base_uri": "https://localhost:8080/"
        },
        "id": "cCCIQAA-eERP",
        "outputId": "c5fe2f7e-3b8c-41f2-d6b8-3be9f3e7864e"
      },
      "execution_count": 38,
      "outputs": [
        {
          "output_type": "execute_result",
          "data": {
            "text/plain": [
              "array([[ 526,   11],\n",
              "       [   0, 1078]])"
            ]
          },
          "metadata": {},
          "execution_count": 38
        }
      ]
    },
    {
      "cell_type": "code",
      "source": [
        "cm_test=confusion_matrix(tt_labels,P_test)\n",
        "cm_test"
      ],
      "metadata": {
        "colab": {
          "base_uri": "https://localhost:8080/"
        },
        "id": "c2qC-a6XeTb8",
        "outputId": "9e572acb-60d4-445c-b7b3-21f3a2d8b8d5"
      },
      "execution_count": 39,
      "outputs": [
        {
          "output_type": "execute_result",
          "data": {
            "text/plain": [
              "array([[ 83,  98],\n",
              "       [  8, 350]])"
            ]
          },
          "metadata": {},
          "execution_count": 39
        }
      ]
    },
    {
      "cell_type": "code",
      "source": [
        "f1_score(tr_labels,P_train)"
      ],
      "metadata": {
        "colab": {
          "base_uri": "https://localhost:8080/"
        },
        "id": "BJ7m7d6eeYcv",
        "outputId": "f49c7132-b9f3-4b06-f4dd-cf0fc74dba87"
      },
      "execution_count": 40,
      "outputs": [
        {
          "output_type": "execute_result",
          "data": {
            "text/plain": [
              "0.9949238578680203"
            ]
          },
          "metadata": {},
          "execution_count": 40
        }
      ]
    },
    {
      "cell_type": "code",
      "source": [
        "f1_score(tt_labels,P_test)"
      ],
      "metadata": {
        "colab": {
          "base_uri": "https://localhost:8080/"
        },
        "id": "ZTAX1hyeee_s",
        "outputId": "a095230f-d1fd-4c8b-fa74-5d24079a22ee"
      },
      "execution_count": 41,
      "outputs": [
        {
          "output_type": "execute_result",
          "data": {
            "text/plain": [
              "0.8684863523573202"
            ]
          },
          "metadata": {},
          "execution_count": 41
        }
      ]
    }
  ]
}